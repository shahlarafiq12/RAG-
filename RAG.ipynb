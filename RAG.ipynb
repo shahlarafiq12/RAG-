{
  "nbformat": 4,
  "nbformat_minor": 0,
  "metadata": {
    "colab": {
      "provenance": []
    },
    "kernelspec": {
      "name": "python3",
      "display_name": "Python 3"
    },
    "language_info": {
      "name": "python"
    }
  },
  "cells": [
    {
      "cell_type": "code",
      "execution_count": 98,
      "metadata": {
        "colab": {
          "base_uri": "https://localhost:8080/"
        },
        "collapsed": true,
        "id": "ybwHfhKMNcMu",
        "outputId": "6d424fac-5dd4-4930-c870-959dd378a6e4"
      },
      "outputs": [
        {
          "output_type": "stream",
          "name": "stdout",
          "text": [
            "Requirement already satisfied: langchain-google-genai in /usr/local/lib/python3.12/dist-packages (2.0.10)\n",
            "Requirement already satisfied: langchain-community in /usr/local/lib/python3.12/dist-packages (0.3.30)\n",
            "Requirement already satisfied: google-generativeai in /usr/local/lib/python3.12/dist-packages (0.8.5)\n",
            "Requirement already satisfied: filetype<2.0.0,>=1.2.0 in /usr/local/lib/python3.12/dist-packages (from langchain-google-genai) (1.2.0)\n",
            "Requirement already satisfied: langchain-core<0.4.0,>=0.3.37 in /usr/local/lib/python3.12/dist-packages (from langchain-google-genai) (0.3.76)\n",
            "Requirement already satisfied: pydantic<3,>=2 in /usr/local/lib/python3.12/dist-packages (from langchain-google-genai) (2.11.9)\n",
            "Requirement already satisfied: langchain<2.0.0,>=0.3.27 in /usr/local/lib/python3.12/dist-packages (from langchain-community) (0.3.27)\n",
            "Requirement already satisfied: SQLAlchemy<3.0.0,>=1.4.0 in /usr/local/lib/python3.12/dist-packages (from langchain-community) (2.0.43)\n",
            "Requirement already satisfied: requests<3.0.0,>=2.32.5 in /usr/local/lib/python3.12/dist-packages (from langchain-community) (2.32.5)\n",
            "Requirement already satisfied: PyYAML<7.0.0,>=5.3.0 in /usr/local/lib/python3.12/dist-packages (from langchain-community) (6.0.2)\n",
            "Requirement already satisfied: aiohttp<4.0.0,>=3.8.3 in /usr/local/lib/python3.12/dist-packages (from langchain-community) (3.12.15)\n",
            "Requirement already satisfied: tenacity!=8.4.0,<10.0.0,>=8.1.0 in /usr/local/lib/python3.12/dist-packages (from langchain-community) (8.5.0)\n",
            "Requirement already satisfied: dataclasses-json<0.7.0,>=0.6.7 in /usr/local/lib/python3.12/dist-packages (from langchain-community) (0.6.7)\n",
            "Requirement already satisfied: pydantic-settings<3.0.0,>=2.10.1 in /usr/local/lib/python3.12/dist-packages (from langchain-community) (2.10.1)\n",
            "Requirement already satisfied: langsmith<1.0.0,>=0.1.125 in /usr/local/lib/python3.12/dist-packages (from langchain-community) (0.4.28)\n",
            "Requirement already satisfied: httpx-sse<1.0.0,>=0.4.0 in /usr/local/lib/python3.12/dist-packages (from langchain-community) (0.4.1)\n",
            "Requirement already satisfied: numpy>=1.26.2 in /usr/local/lib/python3.12/dist-packages (from langchain-community) (2.0.2)\n",
            "Requirement already satisfied: google-ai-generativelanguage==0.6.15 in /usr/local/lib/python3.12/dist-packages (from google-generativeai) (0.6.15)\n",
            "Requirement already satisfied: google-api-core in /usr/local/lib/python3.12/dist-packages (from google-generativeai) (2.25.1)\n",
            "Requirement already satisfied: google-api-python-client in /usr/local/lib/python3.12/dist-packages (from google-generativeai) (2.182.0)\n",
            "Requirement already satisfied: google-auth>=2.15.0 in /usr/local/lib/python3.12/dist-packages (from google-generativeai) (2.38.0)\n",
            "Requirement already satisfied: protobuf in /usr/local/lib/python3.12/dist-packages (from google-generativeai) (5.29.5)\n",
            "Requirement already satisfied: tqdm in /usr/local/lib/python3.12/dist-packages (from google-generativeai) (4.67.1)\n",
            "Requirement already satisfied: typing-extensions in /usr/local/lib/python3.12/dist-packages (from google-generativeai) (4.15.0)\n",
            "Requirement already satisfied: proto-plus<2.0.0dev,>=1.22.3 in /usr/local/lib/python3.12/dist-packages (from google-ai-generativelanguage==0.6.15->google-generativeai) (1.26.1)\n",
            "Requirement already satisfied: aiohappyeyeballs>=2.5.0 in /usr/local/lib/python3.12/dist-packages (from aiohttp<4.0.0,>=3.8.3->langchain-community) (2.6.1)\n",
            "Requirement already satisfied: aiosignal>=1.4.0 in /usr/local/lib/python3.12/dist-packages (from aiohttp<4.0.0,>=3.8.3->langchain-community) (1.4.0)\n",
            "Requirement already satisfied: attrs>=17.3.0 in /usr/local/lib/python3.12/dist-packages (from aiohttp<4.0.0,>=3.8.3->langchain-community) (25.3.0)\n",
            "Requirement already satisfied: frozenlist>=1.1.1 in /usr/local/lib/python3.12/dist-packages (from aiohttp<4.0.0,>=3.8.3->langchain-community) (1.7.0)\n",
            "Requirement already satisfied: multidict<7.0,>=4.5 in /usr/local/lib/python3.12/dist-packages (from aiohttp<4.0.0,>=3.8.3->langchain-community) (6.6.4)\n",
            "Requirement already satisfied: propcache>=0.2.0 in /usr/local/lib/python3.12/dist-packages (from aiohttp<4.0.0,>=3.8.3->langchain-community) (0.3.2)\n",
            "Requirement already satisfied: yarl<2.0,>=1.17.0 in /usr/local/lib/python3.12/dist-packages (from aiohttp<4.0.0,>=3.8.3->langchain-community) (1.20.1)\n",
            "Requirement already satisfied: marshmallow<4.0.0,>=3.18.0 in /usr/local/lib/python3.12/dist-packages (from dataclasses-json<0.7.0,>=0.6.7->langchain-community) (3.26.1)\n",
            "Requirement already satisfied: typing-inspect<1,>=0.4.0 in /usr/local/lib/python3.12/dist-packages (from dataclasses-json<0.7.0,>=0.6.7->langchain-community) (0.9.0)\n",
            "Requirement already satisfied: googleapis-common-protos<2.0.0,>=1.56.2 in /usr/local/lib/python3.12/dist-packages (from google-api-core->google-generativeai) (1.70.0)\n",
            "Requirement already satisfied: cachetools<6.0,>=2.0.0 in /usr/local/lib/python3.12/dist-packages (from google-auth>=2.15.0->google-generativeai) (5.5.2)\n",
            "Requirement already satisfied: pyasn1-modules>=0.2.1 in /usr/local/lib/python3.12/dist-packages (from google-auth>=2.15.0->google-generativeai) (0.4.2)\n",
            "Requirement already satisfied: rsa<5,>=3.1.4 in /usr/local/lib/python3.12/dist-packages (from google-auth>=2.15.0->google-generativeai) (4.9.1)\n",
            "Requirement already satisfied: langchain-text-splitters<1.0.0,>=0.3.9 in /usr/local/lib/python3.12/dist-packages (from langchain<2.0.0,>=0.3.27->langchain-community) (0.3.11)\n",
            "Requirement already satisfied: jsonpatch<2.0,>=1.33 in /usr/local/lib/python3.12/dist-packages (from langchain-core<0.4.0,>=0.3.37->langchain-google-genai) (1.33)\n",
            "Requirement already satisfied: packaging>=23.2 in /usr/local/lib/python3.12/dist-packages (from langchain-core<0.4.0,>=0.3.37->langchain-google-genai) (24.2)\n",
            "Requirement already satisfied: httpx<1,>=0.23.0 in /usr/local/lib/python3.12/dist-packages (from langsmith<1.0.0,>=0.1.125->langchain-community) (0.28.1)\n",
            "Requirement already satisfied: orjson>=3.9.14 in /usr/local/lib/python3.12/dist-packages (from langsmith<1.0.0,>=0.1.125->langchain-community) (3.11.3)\n",
            "Requirement already satisfied: requests-toolbelt>=1.0.0 in /usr/local/lib/python3.12/dist-packages (from langsmith<1.0.0,>=0.1.125->langchain-community) (1.0.0)\n",
            "Requirement already satisfied: zstandard>=0.23.0 in /usr/local/lib/python3.12/dist-packages (from langsmith<1.0.0,>=0.1.125->langchain-community) (0.25.0)\n",
            "Requirement already satisfied: annotated-types>=0.6.0 in /usr/local/lib/python3.12/dist-packages (from pydantic<3,>=2->langchain-google-genai) (0.7.0)\n",
            "Requirement already satisfied: pydantic-core==2.33.2 in /usr/local/lib/python3.12/dist-packages (from pydantic<3,>=2->langchain-google-genai) (2.33.2)\n",
            "Requirement already satisfied: typing-inspection>=0.4.0 in /usr/local/lib/python3.12/dist-packages (from pydantic<3,>=2->langchain-google-genai) (0.4.1)\n",
            "Requirement already satisfied: python-dotenv>=0.21.0 in /usr/local/lib/python3.12/dist-packages (from pydantic-settings<3.0.0,>=2.10.1->langchain-community) (1.1.1)\n",
            "Requirement already satisfied: charset_normalizer<4,>=2 in /usr/local/lib/python3.12/dist-packages (from requests<3.0.0,>=2.32.5->langchain-community) (3.4.3)\n",
            "Requirement already satisfied: idna<4,>=2.5 in /usr/local/lib/python3.12/dist-packages (from requests<3.0.0,>=2.32.5->langchain-community) (3.10)\n",
            "Requirement already satisfied: urllib3<3,>=1.21.1 in /usr/local/lib/python3.12/dist-packages (from requests<3.0.0,>=2.32.5->langchain-community) (2.5.0)\n",
            "Requirement already satisfied: certifi>=2017.4.17 in /usr/local/lib/python3.12/dist-packages (from requests<3.0.0,>=2.32.5->langchain-community) (2025.8.3)\n",
            "Requirement already satisfied: greenlet>=1 in /usr/local/lib/python3.12/dist-packages (from SQLAlchemy<3.0.0,>=1.4.0->langchain-community) (3.2.4)\n",
            "Requirement already satisfied: httplib2<1.0.0,>=0.19.0 in /usr/local/lib/python3.12/dist-packages (from google-api-python-client->google-generativeai) (0.31.0)\n",
            "Requirement already satisfied: google-auth-httplib2<1.0.0,>=0.2.0 in /usr/local/lib/python3.12/dist-packages (from google-api-python-client->google-generativeai) (0.2.0)\n",
            "Requirement already satisfied: uritemplate<5,>=3.0.1 in /usr/local/lib/python3.12/dist-packages (from google-api-python-client->google-generativeai) (4.2.0)\n",
            "Requirement already satisfied: grpcio<2.0.0,>=1.33.2 in /usr/local/lib/python3.12/dist-packages (from google-api-core[grpc]!=2.0.*,!=2.1.*,!=2.10.*,!=2.2.*,!=2.3.*,!=2.4.*,!=2.5.*,!=2.6.*,!=2.7.*,!=2.8.*,!=2.9.*,<3.0.0dev,>=1.34.1->google-ai-generativelanguage==0.6.15->google-generativeai) (1.75.0)\n",
            "Requirement already satisfied: grpcio-status<2.0.0,>=1.33.2 in /usr/local/lib/python3.12/dist-packages (from google-api-core[grpc]!=2.0.*,!=2.1.*,!=2.10.*,!=2.2.*,!=2.3.*,!=2.4.*,!=2.5.*,!=2.6.*,!=2.7.*,!=2.8.*,!=2.9.*,<3.0.0dev,>=1.34.1->google-ai-generativelanguage==0.6.15->google-generativeai) (1.71.2)\n",
            "Requirement already satisfied: pyparsing<4,>=3.0.4 in /usr/local/lib/python3.12/dist-packages (from httplib2<1.0.0,>=0.19.0->google-api-python-client->google-generativeai) (3.2.4)\n",
            "Requirement already satisfied: anyio in /usr/local/lib/python3.12/dist-packages (from httpx<1,>=0.23.0->langsmith<1.0.0,>=0.1.125->langchain-community) (4.10.0)\n",
            "Requirement already satisfied: httpcore==1.* in /usr/local/lib/python3.12/dist-packages (from httpx<1,>=0.23.0->langsmith<1.0.0,>=0.1.125->langchain-community) (1.0.9)\n",
            "Requirement already satisfied: h11>=0.16 in /usr/local/lib/python3.12/dist-packages (from httpcore==1.*->httpx<1,>=0.23.0->langsmith<1.0.0,>=0.1.125->langchain-community) (0.16.0)\n",
            "Requirement already satisfied: jsonpointer>=1.9 in /usr/local/lib/python3.12/dist-packages (from jsonpatch<2.0,>=1.33->langchain-core<0.4.0,>=0.3.37->langchain-google-genai) (3.0.0)\n",
            "Requirement already satisfied: pyasn1<0.7.0,>=0.6.1 in /usr/local/lib/python3.12/dist-packages (from pyasn1-modules>=0.2.1->google-auth>=2.15.0->google-generativeai) (0.6.1)\n",
            "Requirement already satisfied: mypy-extensions>=0.3.0 in /usr/local/lib/python3.12/dist-packages (from typing-inspect<1,>=0.4.0->dataclasses-json<0.7.0,>=0.6.7->langchain-community) (1.1.0)\n",
            "Requirement already satisfied: sniffio>=1.1 in /usr/local/lib/python3.12/dist-packages (from anyio->httpx<1,>=0.23.0->langsmith<1.0.0,>=0.1.125->langchain-community) (1.3.1)\n"
          ]
        }
      ],
      "source": [
        "!pip install langchain-google-genai langchain-community google-generativeai"
      ]
    },
    {
      "cell_type": "code",
      "source": [
        "!pip install langchain-pinecone pinecone"
      ],
      "metadata": {
        "colab": {
          "base_uri": "https://localhost:8080/"
        },
        "collapsed": true,
        "id": "ciI6KirhOhk1",
        "outputId": "81a1ca01-df44-4a3c-d836-207ade5d0511"
      },
      "execution_count": 99,
      "outputs": [
        {
          "output_type": "stream",
          "name": "stdout",
          "text": [
            "Requirement already satisfied: langchain-pinecone in /usr/local/lib/python3.12/dist-packages (0.2.12)\n",
            "Requirement already satisfied: pinecone in /usr/local/lib/python3.12/dist-packages (7.3.0)\n",
            "Requirement already satisfied: langchain-core<1.0.0,>=0.3.34 in /usr/local/lib/python3.12/dist-packages (from langchain-pinecone) (0.3.76)\n",
            "Requirement already satisfied: numpy>=1.26.4 in /usr/local/lib/python3.12/dist-packages (from langchain-pinecone) (2.0.2)\n",
            "Requirement already satisfied: langchain-openai>=0.3.11 in /usr/local/lib/python3.12/dist-packages (from langchain-pinecone) (0.3.33)\n",
            "Requirement already satisfied: httpx>=0.28.0 in /usr/local/lib/python3.12/dist-packages (from langchain-pinecone) (0.28.1)\n",
            "Requirement already satisfied: simsimd>=5.9.11 in /usr/local/lib/python3.12/dist-packages (from langchain-pinecone) (6.5.3)\n",
            "Requirement already satisfied: certifi>=2019.11.17 in /usr/local/lib/python3.12/dist-packages (from pinecone) (2025.8.3)\n",
            "Requirement already satisfied: pinecone-plugin-assistant<2.0.0,>=1.6.0 in /usr/local/lib/python3.12/dist-packages (from pinecone) (1.8.0)\n",
            "Requirement already satisfied: pinecone-plugin-interface<0.0.8,>=0.0.7 in /usr/local/lib/python3.12/dist-packages (from pinecone) (0.0.7)\n",
            "Requirement already satisfied: python-dateutil>=2.5.3 in /usr/local/lib/python3.12/dist-packages (from pinecone) (2.9.0.post0)\n",
            "Requirement already satisfied: typing-extensions>=3.7.4 in /usr/local/lib/python3.12/dist-packages (from pinecone) (4.15.0)\n",
            "Requirement already satisfied: urllib3>=1.26.5 in /usr/local/lib/python3.12/dist-packages (from pinecone) (2.5.0)\n",
            "Requirement already satisfied: anyio in /usr/local/lib/python3.12/dist-packages (from httpx>=0.28.0->langchain-pinecone) (4.10.0)\n",
            "Requirement already satisfied: httpcore==1.* in /usr/local/lib/python3.12/dist-packages (from httpx>=0.28.0->langchain-pinecone) (1.0.9)\n",
            "Requirement already satisfied: idna in /usr/local/lib/python3.12/dist-packages (from httpx>=0.28.0->langchain-pinecone) (3.10)\n",
            "Requirement already satisfied: h11>=0.16 in /usr/local/lib/python3.12/dist-packages (from httpcore==1.*->httpx>=0.28.0->langchain-pinecone) (0.16.0)\n",
            "Requirement already satisfied: langsmith>=0.3.45 in /usr/local/lib/python3.12/dist-packages (from langchain-core<1.0.0,>=0.3.34->langchain-pinecone) (0.4.28)\n",
            "Requirement already satisfied: tenacity!=8.4.0,<10.0.0,>=8.1.0 in /usr/local/lib/python3.12/dist-packages (from langchain-core<1.0.0,>=0.3.34->langchain-pinecone) (8.5.0)\n",
            "Requirement already satisfied: jsonpatch<2.0,>=1.33 in /usr/local/lib/python3.12/dist-packages (from langchain-core<1.0.0,>=0.3.34->langchain-pinecone) (1.33)\n",
            "Requirement already satisfied: PyYAML>=5.3 in /usr/local/lib/python3.12/dist-packages (from langchain-core<1.0.0,>=0.3.34->langchain-pinecone) (6.0.2)\n",
            "Requirement already satisfied: packaging>=23.2 in /usr/local/lib/python3.12/dist-packages (from langchain-core<1.0.0,>=0.3.34->langchain-pinecone) (24.2)\n",
            "Requirement already satisfied: pydantic>=2.7.4 in /usr/local/lib/python3.12/dist-packages (from langchain-core<1.0.0,>=0.3.34->langchain-pinecone) (2.11.9)\n",
            "Requirement already satisfied: openai<2.0.0,>=1.104.2 in /usr/local/lib/python3.12/dist-packages (from langchain-openai>=0.3.11->langchain-pinecone) (1.108.0)\n",
            "Requirement already satisfied: tiktoken<1,>=0.7 in /usr/local/lib/python3.12/dist-packages (from langchain-openai>=0.3.11->langchain-pinecone) (0.11.0)\n",
            "Requirement already satisfied: requests<3.0.0,>=2.32.3 in /usr/local/lib/python3.12/dist-packages (from pinecone-plugin-assistant<2.0.0,>=1.6.0->pinecone) (2.32.5)\n",
            "Requirement already satisfied: aiohttp>=3.9.0 in /usr/local/lib/python3.12/dist-packages (from pinecone[asyncio]<8.0.0,>=6.0.0->langchain-pinecone) (3.12.15)\n",
            "Requirement already satisfied: aiohttp-retry<3.0.0,>=2.9.1 in /usr/local/lib/python3.12/dist-packages (from pinecone[asyncio]<8.0.0,>=6.0.0->langchain-pinecone) (2.9.1)\n",
            "Requirement already satisfied: six>=1.5 in /usr/local/lib/python3.12/dist-packages (from python-dateutil>=2.5.3->pinecone) (1.17.0)\n",
            "Requirement already satisfied: aiohappyeyeballs>=2.5.0 in /usr/local/lib/python3.12/dist-packages (from aiohttp>=3.9.0->pinecone[asyncio]<8.0.0,>=6.0.0->langchain-pinecone) (2.6.1)\n",
            "Requirement already satisfied: aiosignal>=1.4.0 in /usr/local/lib/python3.12/dist-packages (from aiohttp>=3.9.0->pinecone[asyncio]<8.0.0,>=6.0.0->langchain-pinecone) (1.4.0)\n",
            "Requirement already satisfied: attrs>=17.3.0 in /usr/local/lib/python3.12/dist-packages (from aiohttp>=3.9.0->pinecone[asyncio]<8.0.0,>=6.0.0->langchain-pinecone) (25.3.0)\n",
            "Requirement already satisfied: frozenlist>=1.1.1 in /usr/local/lib/python3.12/dist-packages (from aiohttp>=3.9.0->pinecone[asyncio]<8.0.0,>=6.0.0->langchain-pinecone) (1.7.0)\n",
            "Requirement already satisfied: multidict<7.0,>=4.5 in /usr/local/lib/python3.12/dist-packages (from aiohttp>=3.9.0->pinecone[asyncio]<8.0.0,>=6.0.0->langchain-pinecone) (6.6.4)\n",
            "Requirement already satisfied: propcache>=0.2.0 in /usr/local/lib/python3.12/dist-packages (from aiohttp>=3.9.0->pinecone[asyncio]<8.0.0,>=6.0.0->langchain-pinecone) (0.3.2)\n",
            "Requirement already satisfied: yarl<2.0,>=1.17.0 in /usr/local/lib/python3.12/dist-packages (from aiohttp>=3.9.0->pinecone[asyncio]<8.0.0,>=6.0.0->langchain-pinecone) (1.20.1)\n",
            "Requirement already satisfied: jsonpointer>=1.9 in /usr/local/lib/python3.12/dist-packages (from jsonpatch<2.0,>=1.33->langchain-core<1.0.0,>=0.3.34->langchain-pinecone) (3.0.0)\n",
            "Requirement already satisfied: orjson>=3.9.14 in /usr/local/lib/python3.12/dist-packages (from langsmith>=0.3.45->langchain-core<1.0.0,>=0.3.34->langchain-pinecone) (3.11.3)\n",
            "Requirement already satisfied: requests-toolbelt>=1.0.0 in /usr/local/lib/python3.12/dist-packages (from langsmith>=0.3.45->langchain-core<1.0.0,>=0.3.34->langchain-pinecone) (1.0.0)\n",
            "Requirement already satisfied: zstandard>=0.23.0 in /usr/local/lib/python3.12/dist-packages (from langsmith>=0.3.45->langchain-core<1.0.0,>=0.3.34->langchain-pinecone) (0.25.0)\n",
            "Requirement already satisfied: distro<2,>=1.7.0 in /usr/local/lib/python3.12/dist-packages (from openai<2.0.0,>=1.104.2->langchain-openai>=0.3.11->langchain-pinecone) (1.9.0)\n",
            "Requirement already satisfied: jiter<1,>=0.4.0 in /usr/local/lib/python3.12/dist-packages (from openai<2.0.0,>=1.104.2->langchain-openai>=0.3.11->langchain-pinecone) (0.11.0)\n",
            "Requirement already satisfied: sniffio in /usr/local/lib/python3.12/dist-packages (from openai<2.0.0,>=1.104.2->langchain-openai>=0.3.11->langchain-pinecone) (1.3.1)\n",
            "Requirement already satisfied: tqdm>4 in /usr/local/lib/python3.12/dist-packages (from openai<2.0.0,>=1.104.2->langchain-openai>=0.3.11->langchain-pinecone) (4.67.1)\n",
            "Requirement already satisfied: annotated-types>=0.6.0 in /usr/local/lib/python3.12/dist-packages (from pydantic>=2.7.4->langchain-core<1.0.0,>=0.3.34->langchain-pinecone) (0.7.0)\n",
            "Requirement already satisfied: pydantic-core==2.33.2 in /usr/local/lib/python3.12/dist-packages (from pydantic>=2.7.4->langchain-core<1.0.0,>=0.3.34->langchain-pinecone) (2.33.2)\n",
            "Requirement already satisfied: typing-inspection>=0.4.0 in /usr/local/lib/python3.12/dist-packages (from pydantic>=2.7.4->langchain-core<1.0.0,>=0.3.34->langchain-pinecone) (0.4.1)\n",
            "Requirement already satisfied: charset_normalizer<4,>=2 in /usr/local/lib/python3.12/dist-packages (from requests<3.0.0,>=2.32.3->pinecone-plugin-assistant<2.0.0,>=1.6.0->pinecone) (3.4.3)\n",
            "Requirement already satisfied: regex>=2022.1.18 in /usr/local/lib/python3.12/dist-packages (from tiktoken<1,>=0.7->langchain-openai>=0.3.11->langchain-pinecone) (2024.11.6)\n"
          ]
        }
      ]
    },
    {
      "cell_type": "code",
      "source": [
        "!pip install PyPDF2"
      ],
      "metadata": {
        "colab": {
          "base_uri": "https://localhost:8080/"
        },
        "id": "xQTNUxLmS7Zv",
        "outputId": "0fb7a2ca-1117-4235-e0b9-a6b6146feda7",
        "collapsed": true
      },
      "execution_count": 100,
      "outputs": [
        {
          "output_type": "stream",
          "name": "stdout",
          "text": [
            "Requirement already satisfied: PyPDF2 in /usr/local/lib/python3.12/dist-packages (3.0.1)\n"
          ]
        }
      ]
    },
    {
      "cell_type": "code",
      "source": [
        "import google.generativeai as genai"
      ],
      "metadata": {
        "id": "m6vpT5KcO1j1"
      },
      "execution_count": 101,
      "outputs": []
    },
    {
      "cell_type": "code",
      "source": [
        "from pinecone import Pinecone, ServerlessSpec"
      ],
      "metadata": {
        "id": "nyY0aHqtTmwT"
      },
      "execution_count": 102,
      "outputs": []
    },
    {
      "cell_type": "code",
      "source": [
        "from langchain_pinecone import PineconeVectorStore"
      ],
      "metadata": {
        "id": "xLs_AoupT0mJ",
        "collapsed": true
      },
      "execution_count": 103,
      "outputs": []
    },
    {
      "cell_type": "code",
      "source": [
        "from langchain.text_splitter import RecursiveCharacterTextSplitter"
      ],
      "metadata": {
        "id": "UYlyj4_gUO_A"
      },
      "execution_count": 104,
      "outputs": []
    },
    {
      "cell_type": "code",
      "source": [
        "from google.colab import userdata\n",
        "generative_api = userdata.get('generative')\n",
        "pc_api = userdata.get('pc')\n"
      ],
      "metadata": {
        "id": "YgSqVnm9UhJw"
      },
      "execution_count": 108,
      "outputs": []
    },
    {
      "cell_type": "code",
      "source": [
        "genai.configure(api_key = generative_api)"
      ],
      "metadata": {
        "id": "gbC-2CYGYm11"
      },
      "execution_count": 109,
      "outputs": []
    },
    {
      "cell_type": "code",
      "source": [
        "pc = Pinecone(api_key = pc_api)"
      ],
      "metadata": {
        "id": "Mj2lqH3QZ2Pt"
      },
      "execution_count": 110,
      "outputs": []
    },
    {
      "cell_type": "code",
      "source": [
        "index_name = \"vectordb1\""
      ],
      "metadata": {
        "id": "35cqqZIycDu6"
      },
      "execution_count": 111,
      "outputs": []
    },
    {
      "cell_type": "code",
      "source": [
        "pc.list_indexes()"
      ],
      "metadata": {
        "colab": {
          "base_uri": "https://localhost:8080/"
        },
        "collapsed": true,
        "id": "qSR2ZdEcdLhe",
        "outputId": "33859ff4-c780-47cb-9ed8-b5844c567809"
      },
      "execution_count": 112,
      "outputs": [
        {
          "output_type": "execute_result",
          "data": {
            "text/plain": [
              "[\n",
              "    {\n",
              "        \"name\": \"vectordb1\",\n",
              "        \"metric\": \"cosine\",\n",
              "        \"host\": \"vectordb1-y39klm2.svc.aped-4627-b74a.pinecone.io\",\n",
              "        \"spec\": {\n",
              "            \"serverless\": {\n",
              "                \"cloud\": \"aws\",\n",
              "                \"region\": \"us-east-1\"\n",
              "            }\n",
              "        },\n",
              "        \"status\": {\n",
              "            \"ready\": true,\n",
              "            \"state\": \"Ready\"\n",
              "        },\n",
              "        \"vector_type\": \"dense\",\n",
              "        \"dimension\": 1024,\n",
              "        \"deletion_protection\": \"disabled\",\n",
              "        \"tags\": null,\n",
              "        \"embed\": {\n",
              "            \"model\": \"llama-text-embed-v2\",\n",
              "            \"field_map\": {\n",
              "                \"text\": \"text\"\n",
              "            },\n",
              "            \"dimension\": 1024,\n",
              "            \"metric\": \"cosine\",\n",
              "            \"write_parameters\": {\n",
              "                \"dimension\": 1024.0,\n",
              "                \"input_type\": \"passage\",\n",
              "                \"truncate\": \"END\"\n",
              "            },\n",
              "            \"read_parameters\": {\n",
              "                \"dimension\": 1024.0,\n",
              "                \"input_type\": \"query\",\n",
              "                \"truncate\": \"END\"\n",
              "            },\n",
              "            \"vector_type\": \"dense\"\n",
              "        }\n",
              "    }\n",
              "]"
            ]
          },
          "metadata": {},
          "execution_count": 112
        }
      ]
    },
    {
      "cell_type": "code",
      "source": [
        "if index_name not in [i['name'] for i in pc.list_indexes()]:\n",
        "  pc.create_index(\n",
        "      name = index_name,\n",
        "      dimension = 1024,\n",
        "      metric = \"cosine\",\n",
        "      spec = ServerlessSpec(cloud = 'aws', region = 'us-east-1')\n",
        "  )"
      ],
      "metadata": {
        "id": "rE07y5c5fVRH"
      },
      "execution_count": 113,
      "outputs": []
    },
    {
      "cell_type": "code",
      "source": [
        "pc.delete_index(\"vectordb1\")   # delete old one\n",
        "\n",
        "pc.create_index(\n",
        "    name=\"vectordb1\",\n",
        "    dimension=768,    # must match embeddings\n",
        "    metric=\"cosine\",\n",
        "    spec=ServerlessSpec(cloud=\"aws\", region=\"us-east-1\")\n",
        ")\n"
      ],
      "metadata": {
        "colab": {
          "base_uri": "https://localhost:8080/"
        },
        "id": "Uc531uPWjrs5",
        "outputId": "3ce3ad87-fcda-4eb1-872b-1c345df61aad"
      },
      "execution_count": 114,
      "outputs": [
        {
          "output_type": "execute_result",
          "data": {
            "text/plain": [
              "{\n",
              "    \"name\": \"vectordb1\",\n",
              "    \"metric\": \"cosine\",\n",
              "    \"host\": \"vectordb1-y39klm2.svc.aped-4627-b74a.pinecone.io\",\n",
              "    \"spec\": {\n",
              "        \"serverless\": {\n",
              "            \"cloud\": \"aws\",\n",
              "            \"region\": \"us-east-1\"\n",
              "        }\n",
              "    },\n",
              "    \"status\": {\n",
              "        \"ready\": true,\n",
              "        \"state\": \"Ready\"\n",
              "    },\n",
              "    \"vector_type\": \"dense\",\n",
              "    \"dimension\": 768,\n",
              "    \"deletion_protection\": \"disabled\",\n",
              "    \"tags\": null\n",
              "}"
            ]
          },
          "metadata": {},
          "execution_count": 114
        }
      ]
    },
    {
      "cell_type": "code",
      "source": [
        "from langchain.embeddings import SentenceTransformerEmbeddings"
      ],
      "metadata": {
        "id": "3uRI5mckFwx2"
      },
      "execution_count": 115,
      "outputs": []
    },
    {
      "cell_type": "code",
      "source": [
        "from langchain_huggingface import HuggingFaceEmbeddings\n",
        "embeddings = HuggingFaceEmbeddings(model_name=\"all-mpnet-base-v2\")"
      ],
      "metadata": {
        "collapsed": true,
        "id": "4bt-6trGG6w0"
      },
      "execution_count": 116,
      "outputs": []
    },
    {
      "cell_type": "code",
      "source": [
        "index = pc.Index(index_name)"
      ],
      "metadata": {
        "id": "s3cx6FJZIwYe"
      },
      "execution_count": 117,
      "outputs": []
    },
    {
      "cell_type": "code",
      "source": [
        "def get_chunks(text):\n",
        "  text_splitter = RecursiveCharacterTextSplitter(\n",
        "      chunk_size = 1000,\n",
        "      chunk_overlap = 200,\n",
        "      length_function = len\n",
        "  )\n",
        "  chunks = text_splitter.split_text(text)\n",
        "  return chunks"
      ],
      "metadata": {
        "id": "S4YriXz9JW-t"
      },
      "execution_count": 118,
      "outputs": []
    },
    {
      "cell_type": "code",
      "source": [
        "def get_vector_store(text_chunks, index, embeddings):\n",
        "  vector_store = PineconeVectorStore(\n",
        "      index = index,\n",
        "      embedding = embeddings,\n",
        "      pinecone_api_key= pc_api\n",
        "  )\n",
        "  vector_store.add_texts(text_chunks)\n",
        "  return vector_store"
      ],
      "metadata": {
        "id": "wpsJ7mDwKVWH"
      },
      "execution_count": 120,
      "outputs": []
    },
    {
      "cell_type": "code",
      "source": [
        "def get_rel_text(query, db):\n",
        "  docs = db.similarity_search(query, k = 1)\n",
        "  return docs[0].page_content"
      ],
      "metadata": {
        "id": "8BmctaI1OW8m"
      },
      "execution_count": 121,
      "outputs": []
    },
    {
      "cell_type": "code",
      "source": [
        "pdf_path = \"/content/Computer-Basics--computer_basics2.pdf\""
      ],
      "metadata": {
        "id": "Fvla-ykOPpLR"
      },
      "execution_count": 122,
      "outputs": []
    },
    {
      "cell_type": "code",
      "source": [
        "from PyPDF2 import PdfReader"
      ],
      "metadata": {
        "id": "gChoGoJDQBPw"
      },
      "execution_count": 123,
      "outputs": []
    },
    {
      "cell_type": "code",
      "source": [
        "pdf_reader = PdfReader(pdf_path)"
      ],
      "metadata": {
        "id": "fcYq2hZRQGQw"
      },
      "execution_count": 124,
      "outputs": []
    },
    {
      "cell_type": "code",
      "source": [
        "text = ''"
      ],
      "metadata": {
        "id": "omq1yWHqQZJE"
      },
      "execution_count": 125,
      "outputs": []
    },
    {
      "cell_type": "code",
      "source": [
        "for page in pdf_reader.pages:\n",
        "  text += page.extract_text()"
      ],
      "metadata": {
        "id": "maGdyuU7Q5iT"
      },
      "execution_count": 126,
      "outputs": []
    },
    {
      "cell_type": "code",
      "source": [
        "text"
      ],
      "metadata": {
        "colab": {
          "base_uri": "https://localhost:8080/",
          "height": 209
        },
        "collapsed": true,
        "id": "Wjg6VdRNSXv1",
        "outputId": "c37e4a73-a7e8-4fb9-c7a5-e27e25aed54d"
      },
      "execution_count": 127,
      "outputs": [
        {
          "output_type": "execute_result",
          "data": {
            "text/plain": [
              "'COMPUTER BASICS \\nSeema Sirpal \\nDelhi University Computer Centre What is a Computer? \\nAn electronic device that stores, retrieves, \\nand processes data, and can be programmed with instructions. A computer is composed of hardware and software, and can exist in a variety of sizes and configurations. Hardware & Software \\nThe term hardware refers to the physical \\ncomponents of your computer such as the system unit, mouse, keyboard, monitor etc. \\nThe software is the instructions that makes \\nthe computer work. Software is held either on your computers hard disk, CD-ROM, DVD or on a diskette (floppy disk) and is loaded (i.e. copied) from the disk into the computers RAM (Random Access Memory), as and when required. \\nTypes of Computers \\nMini and Mainframe Computers \\nVery powerful, used by large \\norganisations such an banks to control the entire business operation.  Very expensive! \\nPersonal Computers \\nCheap and easy to use.  Often used as stand-alone computers or in a network.  May be connected to large mainframe computers within big companies. \\nHardware Components \\nInput Devices -- \"How to tell it what to do“\\n-A keyboard and mouse are the standard way to \\ninteract with the computer. Other devices include \\njoysticks and game pads used primarily for games. \\nOutput Devices -- \"How it shows you what it is doing\" \\n-The monitor (the screen) is how the computer \\nsends information back to you. A printer is also an  \\noutput device. Hardware Components \\nINPUT DEVICES \\n/circle6The Mouse \\n/circle6Used to ‘drive’ Microsoft Windows \\n/circle6The Keyboard \\n/circle6The keyboard is still the commonest \\nway of entering information into a computer \\n/circle6Tracker Balls \\n/circle6an alternative to the traditional mouse and often used by graphic designers \\nHardware Components \\nINPUT DEVICES \\n/circle6Scanners \\n/circle6A scanner allows you to scan printed material \\nand convert it into a file format that may be used within the PC \\n/circle6Touch Pads \\n/circle6A device that lays on the desktop and responds \\nto pressure \\n/circle6Light Pens \\n/circle6Used to allow users to point to areas on a screen \\n/circle6Joysticks \\n/circle6Many games require a joystick for the proper playing of the game \\nHardware Components \\nOUTPUT DEVICES \\n/circle6VDU \\n/circle6The computer screen is used for outputting \\ninformation in an understandable format \\n/circle6Printers \\n/circle6There are many different types of printers.  \\n/circle6In large organizations laser printers are most commonly used due to the fact that they can print very fast and give a very high quality output. \\nHardware Components \\nOUTPUT DEVICES \\n/circle6Plotters \\n/circle6A plotter is an output device similar to a \\nprinter, but normally allows you to print larger images. \\n/circle6Speakers \\n/circle6Enhances the value of educational and presentation products. \\n/circle6Speech synthesisers \\n/circle6Gives you the ability to not only to display text on a monitor but also to read the text to you \\nHardware Components \\nStorage Devices -- \"How it saves data and \\nprograms“\\n- Hard disk drives are an internal, \\nhigher capacity drive which also stores the operating system which runs when you power on the computer. \\n- \"Floppy\" disk drives allow you to save \\nwork on small disks and take the data with you. \\nHardware Components \\nHard Disks \\n/circle6Speed: \\n/circle6Very fast!  \\n/circle6The speed of a hard disk is often quoted as \"averag e \\naccess time\" speed, measured in milliseconds.  The smaller this number the faster the disk. \\n/circle6Capacity: \\n/circle6Enormous!  Often 40/80 Gigabytes.  A Gigabyte is equivalent to 1024 Megabytes. \\n/circle6Cost: \\n/circle6Hard disks costs are falling rapidly and normally represent the cheapest way of storing data. Hardware Components \\nDiskettes (Floppy Disks) \\n/circle6Speed: \\n/circle6Very slow! \\n/circle6Capacity: \\n/circle6Normally 1.44 Mbytes. \\n/circle6Cost: \\n/circle6Very cheap. \\nHardware Components \\nCD-ROM Disks \\n/circle6Speed: \\n/circle6Much slower than hard disks.  The original CD-ROM speciation is given a value of 1x speed, and later, faster CD-ROMs are quoted as a multiple of this value. \\n/circle6Capacity: \\n/circle6Around 650 Mbytes and more \\nHardware Components \\nDVD Drives \\n/circle6Speed: \\n/circle6Much faster than CD-ROM drives but not as fast as hard disks. \\n/circle6Capacity: \\n/circle6Up to 17 Gbytes.\\n/circle6Cost: \\n/circle6Slightly higher than CD-ROM drives. \\nMain Parts of Computer \\nMemory -- \"How the processor stores and uses \\nimmediate data“\\n/circle6RAM - Random Access Memory \\n/circle6The main \\'working\\' memory used by the computer.  \\n/circle6When the operating system loads from disk when you first switch on the computer, it is copied into RAM .  \\n/circle6As a rough rule, a Microsoft Windows based computer  will \\noperate faster if you install more RAM. Data and programs stored in RAM are volatile (i.e. the infor mation \\nis lost when you switch off the computer). Hardware Components \\nMemory \\n/circle6ROM – Read Only Memory \\n/circle6Read Only Memory (ROM) as the name suggests is a sp ecial \\ntype of memory chip that holds software that can be  read \\nbut not written to.  \\n/circle6A good example is the ROM-BIOS chip, which contains  read-\\nonly software.  \\n/circle6Often network cards and video cards also contain RO M \\nchips. Hardware Components \\nHow Computer Memory Is Measured \\n/circle6Bit \\n/circle6All computers work on a binary numbering system, i. e. they \\nprocess data in one\\'s or zero\\'s.  This 1 or 0 level  of storage is \\ncalled a bit. \\n/circle6Byte \\n/circle6A byte consists of eight bits. \\n/circle6Kilobyte \\n/circle6A kilobyte (KB) consists of 1024 bytes. \\n/circle6Megabyte \\n/circle6A megabyte (MB) consists of 1024 kilobytes. \\n/circle6Gigabyte \\n/circle6A gigabyte (GB) consists of 1024 megabytes .Hardware Components \\nMicroprocessors -- \"The brain of the computer“\\n- PCs primarily use microprocessors (sometimes calle d the chip). \\nThe older Intel versions include the 386, 486 and n ow the Pentium \\nline. \\nThe CPU (Central Processing Unit) is normally an Intel \\nPentium (or equivalent) and it is one of the most i mportant \\ncomponents within your computer. \\n/circle6It determines how fast your computer will run and i s \\nmeasured by its MHz speed. \\n/circle6Thus a 600 MHz Pentium is much faster than say a 40 0 \\nMHz Pentium CPU. \\n/circle6It is the CPU that performs all the calculations wi thin the \\ncomputer. \\nHardware Components \\nSome of the Factors \\nThat Impact on a Computer\\'s Performance \\n/circle6CPU speed \\n/circle6RAM size \\n/circle6Hard disk speed and capacity Software Component \\nOperating systems software \\nThe operating system is a special type of program t hat loads \\nautomatically when you start your computer.  \\nThe operating system allows you to use the advanced  features of \\na modern computer without having to learn all the d etails of how \\nthe hardware works \\nThe link between the hardware and you, the user \\nMakes the computer easy to use without having to un derstand bits \\nand bytes! Software Component \\nApplications software \\nAn application program is the type of program that \\nyou use once the operating system has been loaded.  \\nExamples include word-processing programs, spreadsheets and databases Software Component \\nApplication Software \\n/circle6Word processing applications \\n/circle6Microsoft Word \\n/circle6Lotus Word Pro \\n/circle6WordPerfect \\n/circle6Spreadsheets \\n/circle6Microsoft Excel \\n/circle6Lotus 123 \\n/circle6Database \\n/circle6Microsoft Access \\n/circle6Lotus Approach \\nSoftware Component \\nApplication Software \\n/circle6Payroll \\n/circle6Sage software \\n/circle6Presentation tools \\n/circle6Microsoft PowerPoint \\n/circle6Lotus Freelance \\n/circle6Desktop publishing \\n/circle6Abode Photoshop \\n/circle6Multimedia applications \\n/circle6Microsoft\\'s Encarta CD-ROM based encyclopaedias \\nInformation Network \\n/circle6LAN \\n/circle6A LAN (Local Area Network) is a system whereby \\nindividual PCs are connected together within a company or organization \\n/circle6WAN \\n/circle6A WAN (Wide Area Network) as the name implies \\nallows you to connect to other computers over a wider area (i.e. the whole world). Information Network \\nUses of Network \\nIf ten people are working together within an office  it \\nmakes sense for them all to be connected. \\n• In this way the office can have a single printer \\nand all ten people can print to it.  \\n• In a similar way other devices such as modems or \\nscanners can be shared.  \\n• Even more useful is the ability to share \\ninformation when connected to a network. Computer Accessories \\n/circle6Modem \\n/circle6Short for “MODulate/DEModulate”.  The modem sends information from your computer across the telephone system. \\n/circle6The modem at the other end of the phone line, \\nconverts the signal back into a format that can be used by the receiving computer. Uses of Computer \\nPC at Home \\nCommon uses for the computer within the home \\n/circle6Computer games \\n/circle6Working from Home \\n/circle6Banking from Home \\n/circle6Connecting to the Web Uses of Computer \\nComputers in Education \\n/circle6CBT (Computer Based Training) \\n/circle6Computer Based Training (CBT) offers a low cost solution to training needs where you need to train a large amount of people on a single subject.  \\n/circle6These programs are normally supplied on CD-ROM \\nand combine text, graphics and sound.  \\n/circle6Packages range from general encyclopaedias right through to learning a foreign language. Uses of Computer \\nOffice Applications \\n/circle6Automated Production Systems \\n/circle6Many car factories are almost completely automated and the \\ncars are assembled by computer-controlled robots.  \\n/circle6This automation is becoming increasingly common \\nthroughout industry. \\n/circle6Design Systems \\n/circle6Many products are designed using CAD (Computer Aide d \\nDesign) programs to produce exact specifications an d \\ndetailed drawings on the computer before producing models \\nof new products .Uses of Computer \\nOffice Applications \\n/circle6Stock Control\\n/circle6Stock control is ideal for automation and in many c ompanies \\nit is now completely computerized.  \\n/circle6The stock control system keeps track of the number of items \\nin stock and can automatically order replacement it ems \\nwhen required. \\n/circle6Accounts / Payroll\\n/circle6In most large organizations the accounts are mainta ined by \\na computerized system.  \\n/circle6Due to the repetitive nature of accounts a computer  system \\nis ideally suited to this task and accuracy is guar anteed. Uses of Computer \\nComputers in Daily Life \\n/circle6Accounts \\n/circle6Games \\n/circle6Educational\\n/circle6On-line banking \\n/circle6Smart ID cards \\n/circle6Supermarkets \\n/circle6Working from home (Tele-working) \\n/circle6Internet /circle6Frequent breaks away from the computer \\n/circle6Appropriate positioning of screens, chairs and \\nkeyboards \\n/circle6Provision of adequate lighting and ventilation. Create a Good Working Environment Health & Safety Precautions \\n/circle6Make sure that cables are safely secured \\n/circle6Make sure that power points are not overloaded \\n/circle6Also be aware of: \\n/circle6Repetitive Strain Injury (RSI) \\n/circle6Glare from screens \\n/circle6Bad posture Value of Backup \\n/circle6The most important thing that you store on your computer is information.  \\n/circle6Often the contents of a hard disk can represent years of work.  \\n/circle6If the hard disk stops working one day you could lose all those years of work.  \\n/circle6For this reason it is VITAL that you take regular backups of the information that is stored on the computer. Value of Backup \\n/circle6Organize your computer for more efficient backups \\n/circle6Complete vs. incremental backups \\n/circle6Use \\'off-site\\' storage Value of Backup \\n/circle6Use passwords \\n/circle6Understand the Importance of shutting down your computer properly \\n/circle6Use a UPS (Un-interruptible Power Supply) Likes & Dislikes of Computer \\n/circle6Things computer like :\\n/circle6Good ventilation \\n/circle6Clean environment \\n/circle6Stable, vibration free surface \\n/circle6Things computer don’t like :\\n/circle6Dust \\n/circle6Drinking and eating over the keyboard \\n/circle6Heat, Cold or Moisture \\n/circle6Don’t place objects on top of monitors. \\n/circle6Don’t place floppy disks near monitors. Computer Virus \\n/circle6What are computer viruses? \\n/circle6Viruses are small programs \\nthat hide themselves on your disks (both diskettes and your hard disk).  \\n/circle6Unless you use virus detection software the first time that you know that you have a virus is when it activates.  \\n/circle6Different viruses are activated in different ways.  Computer Virus \\n/circle6How do viruses infect PCs? \\n/circle6Viruses hide on a disk and when you \\naccess the disk (either a diskette or another hard disk over a network) the virus program will start and infect your computer. \\n/circle6The worst thing about a computer \\nvirus is that they can spread from one computer to another, either via use of infected floppy disk, or over a computer network, including the Internet. Computer Virus \\n/circle6How to prevent virus damage \\n/circle6There are a number of third party anti-\\nvirus products available. \\n/circle6Most of these are better than the rather rudimentary products available within DOS and Windows, but of course you do have to pay for them!  \\n/circle6The main thing about your virus checker \\nis that it should be kept up to date.  \\n/circle6Many companies supply updated disks on a regular basis or allow you to receive updates through an electronic, on-line bulletin board. Software Copyright \\n/circle6Be aware on software copyright issues \\n/circle6Freeware \\n/circle6Shareware \\n/circle6What about software that you find on the Internet? \\n/circle6Software site licenses Software Copyright \\n/circle6If your computer system holds information about individuals then you have a moral and legal duty to treat that information with respect. \\n/circle6In a free society you have a right to ensure that information held about you is not abused. \\n/circle6In many countries this right is enshrined under data protection laws Now Let us start our Computers \\nand get going '"
            ],
            "application/vnd.google.colaboratory.intrinsic+json": {
              "type": "string"
            }
          },
          "metadata": {},
          "execution_count": 127
        }
      ]
    },
    {
      "cell_type": "code",
      "source": [
        "chunks = get_chunks(text)"
      ],
      "metadata": {
        "id": "WjnSWNmmgOHT"
      },
      "execution_count": 128,
      "outputs": []
    },
    {
      "cell_type": "code",
      "source": [
        "chunks"
      ],
      "metadata": {
        "colab": {
          "base_uri": "https://localhost:8080/"
        },
        "collapsed": true,
        "id": "y4WKycLYgSx-",
        "outputId": "bbef6c33-16ae-472b-d55e-9d98e50ff43c"
      },
      "execution_count": 129,
      "outputs": [
        {
          "output_type": "execute_result",
          "data": {
            "text/plain": [
              "['COMPUTER BASICS \\nSeema Sirpal \\nDelhi University Computer Centre What is a Computer? \\nAn electronic device that stores, retrieves, \\nand processes data, and can be programmed with instructions. A computer is composed of hardware and software, and can exist in a variety of sizes and configurations. Hardware & Software \\nThe term hardware refers to the physical \\ncomponents of your computer such as the system unit, mouse, keyboard, monitor etc. \\nThe software is the instructions that makes \\nthe computer work. Software is held either on your computers hard disk, CD-ROM, DVD or on a diskette (floppy disk) and is loaded (i.e. copied) from the disk into the computers RAM (Random Access Memory), as and when required. \\nTypes of Computers \\nMini and Mainframe Computers \\nVery powerful, used by large \\norganisations such an banks to control the entire business operation.  Very expensive! \\nPersonal Computers',\n",
              " 'Types of Computers \\nMini and Mainframe Computers \\nVery powerful, used by large \\norganisations such an banks to control the entire business operation.  Very expensive! \\nPersonal Computers \\nCheap and easy to use.  Often used as stand-alone computers or in a network.  May be connected to large mainframe computers within big companies. \\nHardware Components \\nInput Devices -- \"How to tell it what to do“\\n-A keyboard and mouse are the standard way to \\ninteract with the computer. Other devices include \\njoysticks and game pads used primarily for games. \\nOutput Devices -- \"How it shows you what it is doing\" \\n-The monitor (the screen) is how the computer \\nsends information back to you. A printer is also an  \\noutput device. Hardware Components \\nINPUT DEVICES \\n/circle6The Mouse \\n/circle6Used to ‘drive’ Microsoft Windows \\n/circle6The Keyboard \\n/circle6The keyboard is still the commonest \\nway of entering information into a computer \\n/circle6Tracker Balls',\n",
              " '/circle6The Mouse \\n/circle6Used to ‘drive’ Microsoft Windows \\n/circle6The Keyboard \\n/circle6The keyboard is still the commonest \\nway of entering information into a computer \\n/circle6Tracker Balls \\n/circle6an alternative to the traditional mouse and often used by graphic designers \\nHardware Components \\nINPUT DEVICES \\n/circle6Scanners \\n/circle6A scanner allows you to scan printed material \\nand convert it into a file format that may be used within the PC \\n/circle6Touch Pads \\n/circle6A device that lays on the desktop and responds \\nto pressure \\n/circle6Light Pens \\n/circle6Used to allow users to point to areas on a screen \\n/circle6Joysticks \\n/circle6Many games require a joystick for the proper playing of the game \\nHardware Components \\nOUTPUT DEVICES \\n/circle6VDU \\n/circle6The computer screen is used for outputting \\ninformation in an understandable format \\n/circle6Printers \\n/circle6There are many different types of printers.',\n",
              " 'OUTPUT DEVICES \\n/circle6VDU \\n/circle6The computer screen is used for outputting \\ninformation in an understandable format \\n/circle6Printers \\n/circle6There are many different types of printers.  \\n/circle6In large organizations laser printers are most commonly used due to the fact that they can print very fast and give a very high quality output. \\nHardware Components \\nOUTPUT DEVICES \\n/circle6Plotters \\n/circle6A plotter is an output device similar to a \\nprinter, but normally allows you to print larger images. \\n/circle6Speakers \\n/circle6Enhances the value of educational and presentation products. \\n/circle6Speech synthesisers \\n/circle6Gives you the ability to not only to display text on a monitor but also to read the text to you \\nHardware Components \\nStorage Devices -- \"How it saves data and \\nprograms“\\n- Hard disk drives are an internal, \\nhigher capacity drive which also stores the operating system which runs when you power on the computer. \\n- \"Floppy\" disk drives allow you to save',\n",
              " 'programs“\\n- Hard disk drives are an internal, \\nhigher capacity drive which also stores the operating system which runs when you power on the computer. \\n- \"Floppy\" disk drives allow you to save \\nwork on small disks and take the data with you. \\nHardware Components \\nHard Disks \\n/circle6Speed: \\n/circle6Very fast!  \\n/circle6The speed of a hard disk is often quoted as \"averag e \\naccess time\" speed, measured in milliseconds.  The smaller this number the faster the disk. \\n/circle6Capacity: \\n/circle6Enormous!  Often 40/80 Gigabytes.  A Gigabyte is equivalent to 1024 Megabytes. \\n/circle6Cost: \\n/circle6Hard disks costs are falling rapidly and normally represent the cheapest way of storing data. Hardware Components \\nDiskettes (Floppy Disks) \\n/circle6Speed: \\n/circle6Very slow! \\n/circle6Capacity: \\n/circle6Normally 1.44 Mbytes. \\n/circle6Cost: \\n/circle6Very cheap. \\nHardware Components \\nCD-ROM Disks \\n/circle6Speed:',\n",
              " 'Diskettes (Floppy Disks) \\n/circle6Speed: \\n/circle6Very slow! \\n/circle6Capacity: \\n/circle6Normally 1.44 Mbytes. \\n/circle6Cost: \\n/circle6Very cheap. \\nHardware Components \\nCD-ROM Disks \\n/circle6Speed: \\n/circle6Much slower than hard disks.  The original CD-ROM speciation is given a value of 1x speed, and later, faster CD-ROMs are quoted as a multiple of this value. \\n/circle6Capacity: \\n/circle6Around 650 Mbytes and more \\nHardware Components \\nDVD Drives \\n/circle6Speed: \\n/circle6Much faster than CD-ROM drives but not as fast as hard disks. \\n/circle6Capacity: \\n/circle6Up to 17 Gbytes.\\n/circle6Cost: \\n/circle6Slightly higher than CD-ROM drives. \\nMain Parts of Computer \\nMemory -- \"How the processor stores and uses \\nimmediate data“\\n/circle6RAM - Random Access Memory \\n/circle6The main \\'working\\' memory used by the computer.  \\n/circle6When the operating system loads from disk when you first switch on the computer, it is copied into RAM .',\n",
              " \"/circle6The main 'working' memory used by the computer.  \\n/circle6When the operating system loads from disk when you first switch on the computer, it is copied into RAM .  \\n/circle6As a rough rule, a Microsoft Windows based computer  will \\noperate faster if you install more RAM. Data and programs stored in RAM are volatile (i.e. the infor mation \\nis lost when you switch off the computer). Hardware Components \\nMemory \\n/circle6ROM – Read Only Memory \\n/circle6Read Only Memory (ROM) as the name suggests is a sp ecial \\ntype of memory chip that holds software that can be  read \\nbut not written to.  \\n/circle6A good example is the ROM-BIOS chip, which contains  read-\\nonly software.  \\n/circle6Often network cards and video cards also contain RO M \\nchips. Hardware Components \\nHow Computer Memory Is Measured \\n/circle6Bit \\n/circle6All computers work on a binary numbering system, i. e. they \\nprocess data in one's or zero's.  This 1 or 0 level  of storage is \\ncalled a bit. \\n/circle6Byte\",\n",
              " '/circle6Bit \\n/circle6All computers work on a binary numbering system, i. e. they \\nprocess data in one\\'s or zero\\'s.  This 1 or 0 level  of storage is \\ncalled a bit. \\n/circle6Byte \\n/circle6A byte consists of eight bits. \\n/circle6Kilobyte \\n/circle6A kilobyte (KB) consists of 1024 bytes. \\n/circle6Megabyte \\n/circle6A megabyte (MB) consists of 1024 kilobytes. \\n/circle6Gigabyte \\n/circle6A gigabyte (GB) consists of 1024 megabytes .Hardware Components \\nMicroprocessors -- \"The brain of the computer“\\n- PCs primarily use microprocessors (sometimes calle d the chip). \\nThe older Intel versions include the 386, 486 and n ow the Pentium \\nline. \\nThe CPU (Central Processing Unit) is normally an Intel \\nPentium (or equivalent) and it is one of the most i mportant \\ncomponents within your computer. \\n/circle6It determines how fast your computer will run and i s \\nmeasured by its MHz speed. \\n/circle6Thus a 600 MHz Pentium is much faster than say a 40 0 \\nMHz Pentium CPU.',\n",
              " \"/circle6It determines how fast your computer will run and i s \\nmeasured by its MHz speed. \\n/circle6Thus a 600 MHz Pentium is much faster than say a 40 0 \\nMHz Pentium CPU. \\n/circle6It is the CPU that performs all the calculations wi thin the \\ncomputer. \\nHardware Components \\nSome of the Factors \\nThat Impact on a Computer's Performance \\n/circle6CPU speed \\n/circle6RAM size \\n/circle6Hard disk speed and capacity Software Component \\nOperating systems software \\nThe operating system is a special type of program t hat loads \\nautomatically when you start your computer.  \\nThe operating system allows you to use the advanced  features of \\na modern computer without having to learn all the d etails of how \\nthe hardware works \\nThe link between the hardware and you, the user \\nMakes the computer easy to use without having to un derstand bits \\nand bytes! Software Component \\nApplications software \\nAn application program is the type of program that \\nyou use once the operating system has been loaded.\",\n",
              " \"and bytes! Software Component \\nApplications software \\nAn application program is the type of program that \\nyou use once the operating system has been loaded.  \\nExamples include word-processing programs, spreadsheets and databases Software Component \\nApplication Software \\n/circle6Word processing applications \\n/circle6Microsoft Word \\n/circle6Lotus Word Pro \\n/circle6WordPerfect \\n/circle6Spreadsheets \\n/circle6Microsoft Excel \\n/circle6Lotus 123 \\n/circle6Database \\n/circle6Microsoft Access \\n/circle6Lotus Approach \\nSoftware Component \\nApplication Software \\n/circle6Payroll \\n/circle6Sage software \\n/circle6Presentation tools \\n/circle6Microsoft PowerPoint \\n/circle6Lotus Freelance \\n/circle6Desktop publishing \\n/circle6Abode Photoshop \\n/circle6Multimedia applications \\n/circle6Microsoft's Encarta CD-ROM based encyclopaedias \\nInformation Network \\n/circle6LAN \\n/circle6A LAN (Local Area Network) is a system whereby \\nindividual PCs are connected together within a company or organization \\n/circle6WAN\",\n",
              " 'Information Network \\n/circle6LAN \\n/circle6A LAN (Local Area Network) is a system whereby \\nindividual PCs are connected together within a company or organization \\n/circle6WAN \\n/circle6A WAN (Wide Area Network) as the name implies \\nallows you to connect to other computers over a wider area (i.e. the whole world). Information Network \\nUses of Network \\nIf ten people are working together within an office  it \\nmakes sense for them all to be connected. \\n• In this way the office can have a single printer \\nand all ten people can print to it.  \\n• In a similar way other devices such as modems or \\nscanners can be shared.  \\n• Even more useful is the ability to share \\ninformation when connected to a network. Computer Accessories \\n/circle6Modem \\n/circle6Short for “MODulate/DEModulate”.  The modem sends information from your computer across the telephone system. \\n/circle6The modem at the other end of the phone line,',\n",
              " '/circle6Modem \\n/circle6Short for “MODulate/DEModulate”.  The modem sends information from your computer across the telephone system. \\n/circle6The modem at the other end of the phone line, \\nconverts the signal back into a format that can be used by the receiving computer. Uses of Computer \\nPC at Home \\nCommon uses for the computer within the home \\n/circle6Computer games \\n/circle6Working from Home \\n/circle6Banking from Home \\n/circle6Connecting to the Web Uses of Computer \\nComputers in Education \\n/circle6CBT (Computer Based Training) \\n/circle6Computer Based Training (CBT) offers a low cost solution to training needs where you need to train a large amount of people on a single subject.  \\n/circle6These programs are normally supplied on CD-ROM \\nand combine text, graphics and sound.  \\n/circle6Packages range from general encyclopaedias right through to learning a foreign language. Uses of Computer \\nOffice Applications \\n/circle6Automated Production Systems',\n",
              " '/circle6Packages range from general encyclopaedias right through to learning a foreign language. Uses of Computer \\nOffice Applications \\n/circle6Automated Production Systems \\n/circle6Many car factories are almost completely automated and the \\ncars are assembled by computer-controlled robots.  \\n/circle6This automation is becoming increasingly common \\nthroughout industry. \\n/circle6Design Systems \\n/circle6Many products are designed using CAD (Computer Aide d \\nDesign) programs to produce exact specifications an d \\ndetailed drawings on the computer before producing models \\nof new products .Uses of Computer \\nOffice Applications \\n/circle6Stock Control\\n/circle6Stock control is ideal for automation and in many c ompanies \\nit is now completely computerized.  \\n/circle6The stock control system keeps track of the number of items \\nin stock and can automatically order replacement it ems \\nwhen required. \\n/circle6Accounts / Payroll\\n/circle6In most large organizations the accounts are mainta ined by',\n",
              " 'in stock and can automatically order replacement it ems \\nwhen required. \\n/circle6Accounts / Payroll\\n/circle6In most large organizations the accounts are mainta ined by \\na computerized system.  \\n/circle6Due to the repetitive nature of accounts a computer  system \\nis ideally suited to this task and accuracy is guar anteed. Uses of Computer \\nComputers in Daily Life \\n/circle6Accounts \\n/circle6Games \\n/circle6Educational\\n/circle6On-line banking \\n/circle6Smart ID cards \\n/circle6Supermarkets \\n/circle6Working from home (Tele-working) \\n/circle6Internet /circle6Frequent breaks away from the computer \\n/circle6Appropriate positioning of screens, chairs and \\nkeyboards \\n/circle6Provision of adequate lighting and ventilation. Create a Good Working Environment Health & Safety Precautions \\n/circle6Make sure that cables are safely secured \\n/circle6Make sure that power points are not overloaded \\n/circle6Also be aware of: \\n/circle6Repetitive Strain Injury (RSI) \\n/circle6Glare from screens',\n",
              " \"/circle6Make sure that power points are not overloaded \\n/circle6Also be aware of: \\n/circle6Repetitive Strain Injury (RSI) \\n/circle6Glare from screens \\n/circle6Bad posture Value of Backup \\n/circle6The most important thing that you store on your computer is information.  \\n/circle6Often the contents of a hard disk can represent years of work.  \\n/circle6If the hard disk stops working one day you could lose all those years of work.  \\n/circle6For this reason it is VITAL that you take regular backups of the information that is stored on the computer. Value of Backup \\n/circle6Organize your computer for more efficient backups \\n/circle6Complete vs. incremental backups \\n/circle6Use 'off-site' storage Value of Backup \\n/circle6Use passwords \\n/circle6Understand the Importance of shutting down your computer properly \\n/circle6Use a UPS (Un-interruptible Power Supply) Likes & Dislikes of Computer \\n/circle6Things computer like :\\n/circle6Good ventilation \\n/circle6Clean environment\",\n",
              " '/circle6Use a UPS (Un-interruptible Power Supply) Likes & Dislikes of Computer \\n/circle6Things computer like :\\n/circle6Good ventilation \\n/circle6Clean environment \\n/circle6Stable, vibration free surface \\n/circle6Things computer don’t like :\\n/circle6Dust \\n/circle6Drinking and eating over the keyboard \\n/circle6Heat, Cold or Moisture \\n/circle6Don’t place objects on top of monitors. \\n/circle6Don’t place floppy disks near monitors. Computer Virus \\n/circle6What are computer viruses? \\n/circle6Viruses are small programs \\nthat hide themselves on your disks (both diskettes and your hard disk).  \\n/circle6Unless you use virus detection software the first time that you know that you have a virus is when it activates.  \\n/circle6Different viruses are activated in different ways.  Computer Virus \\n/circle6How do viruses infect PCs? \\n/circle6Viruses hide on a disk and when you',\n",
              " '/circle6Different viruses are activated in different ways.  Computer Virus \\n/circle6How do viruses infect PCs? \\n/circle6Viruses hide on a disk and when you \\naccess the disk (either a diskette or another hard disk over a network) the virus program will start and infect your computer. \\n/circle6The worst thing about a computer \\nvirus is that they can spread from one computer to another, either via use of infected floppy disk, or over a computer network, including the Internet. Computer Virus \\n/circle6How to prevent virus damage \\n/circle6There are a number of third party anti-\\nvirus products available. \\n/circle6Most of these are better than the rather rudimentary products available within DOS and Windows, but of course you do have to pay for them!  \\n/circle6The main thing about your virus checker \\nis that it should be kept up to date.',\n",
              " '/circle6The main thing about your virus checker \\nis that it should be kept up to date.  \\n/circle6Many companies supply updated disks on a regular basis or allow you to receive updates through an electronic, on-line bulletin board. Software Copyright \\n/circle6Be aware on software copyright issues \\n/circle6Freeware \\n/circle6Shareware \\n/circle6What about software that you find on the Internet? \\n/circle6Software site licenses Software Copyright \\n/circle6If your computer system holds information about individuals then you have a moral and legal duty to treat that information with respect. \\n/circle6In a free society you have a right to ensure that information held about you is not abused. \\n/circle6In many countries this right is enshrined under data protection laws Now Let us start our Computers \\nand get going']"
            ]
          },
          "metadata": {},
          "execution_count": 129
        }
      ]
    },
    {
      "cell_type": "code",
      "source": [
        "vector_db = get_vector_store(chunks, index, embeddings)"
      ],
      "metadata": {
        "id": "8HttUEY2g9Qe"
      },
      "execution_count": 130,
      "outputs": []
    },
    {
      "cell_type": "code",
      "source": [
        "model = genai.GenerativeModel(\n",
        "    model_name = 'gemini-2.0-flash',\n",
        "    system_instruction = \"\"\"\n",
        "\n",
        "    You are a very experienced answer provider,\n",
        "    Based on the relevant content given to you, you have the ability to easily answer the query asked by the user.\n",
        "\n",
        "    \"\"\"\n",
        ")"
      ],
      "metadata": {
        "id": "HnV_XKmbnOul"
      },
      "execution_count": 131,
      "outputs": []
    },
    {
      "cell_type": "code",
      "source": [
        "def get_rag_prompt(user_query, relevant_text):\n",
        "\n",
        "  rag_prompt = f\"\"\"\n",
        "\n",
        "  The provided content are, the user query and the relevant text taken from the required documents.\n",
        "  Based on the relevant text, please answer the user query. You can also use your own knowledge.\n",
        "  But please, try to stick on to the relevant content instead of deviating from the topic space.\n",
        "\n",
        "  User Query : {user_query}\n",
        "\n",
        "  Relevant Content : {relevant_text}\n",
        "\n",
        "  \"\"\"\n",
        "\n",
        "  return rag_prompt"
      ],
      "metadata": {
        "id": "Sa9Y0VppnTQi"
      },
      "execution_count": 132,
      "outputs": []
    },
    {
      "cell_type": "code",
      "source": [
        "query = \"Whats basics things in Computer Science?\""
      ],
      "metadata": {
        "id": "jO-6F9t7nXqC"
      },
      "execution_count": 139,
      "outputs": []
    },
    {
      "cell_type": "code",
      "source": [
        "rel_text = get_rel_text(query, vector_db)"
      ],
      "metadata": {
        "id": "qcQFhzGcncH5"
      },
      "execution_count": 140,
      "outputs": []
    },
    {
      "cell_type": "code",
      "source": [
        "prompt = get_rag_prompt(query, rel_text)"
      ],
      "metadata": {
        "id": "HI0G7mRKne5w"
      },
      "execution_count": 141,
      "outputs": []
    },
    {
      "cell_type": "code",
      "source": [
        "response = model.generate_content(prompt)"
      ],
      "metadata": {
        "id": "jGVgl0S9nhh_"
      },
      "execution_count": 142,
      "outputs": []
    },
    {
      "cell_type": "code",
      "source": [
        "from IPython.display import Markdown, display"
      ],
      "metadata": {
        "id": "MA9VMBU0nmDe"
      },
      "execution_count": 143,
      "outputs": []
    },
    {
      "cell_type": "code",
      "source": [
        "display(Markdown(response.text))"
      ],
      "metadata": {
        "colab": {
          "base_uri": "https://localhost:8080/",
          "height": 209
        },
        "id": "VFMuBY3BnouC",
        "outputId": "717d3cad-bf3d-4940-9f51-ce01dd5aef18"
      },
      "execution_count": 144,
      "outputs": [
        {
          "output_type": "display_data",
          "data": {
            "text/plain": [
              "<IPython.core.display.Markdown object>"
            ],
            "text/markdown": "The basics of computer science mentioned in the provided text are:\n\n*   **Binary Numbering System:** Computers use a binary numbering system, processing data in ones and zeros.\n*   **Bit:** The fundamental unit of storage, representing a 1 or 0.\n*   **Byte:** Consists of eight bits.\n*   **Kilobyte (KB):** 1024 bytes.\n*   **Megabyte (MB):** 1024 kilobytes.\n*   **Gigabyte (GB):** 1024 megabytes.\n*   **Microprocessors:** The \"brain\" of the computer, like Intel Pentium CPUs.\n*   **CPU (Central Processing Unit):** A crucial component, often an Intel Pentium, determining the computer's speed (measured in MHz).\n"
          },
          "metadata": {}
        }
      ]
    },
    {
      "cell_type": "code",
      "source": [
        "chunks = ['My name is SHahla Rafiq']\n",
        "\n",
        "chunk_size = 3\n",
        "chunk_overlap = 2\n",
        "\n",
        "chunk1 = ['My name is']\n",
        "chunk2 = ['name is Shahla']\n",
        "chunk3 = ['is Shahla Rafiq']"
      ],
      "metadata": {
        "id": "uWoGF9EUn5fT"
      },
      "execution_count": 146,
      "outputs": []
    }
  ]
}